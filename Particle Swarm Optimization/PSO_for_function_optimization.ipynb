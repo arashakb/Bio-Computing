{
  "nbformat": 4,
  "nbformat_minor": 0,
  "metadata": {
    "colab": {
      "provenance": []
    },
    "kernelspec": {
      "name": "python3",
      "display_name": "Python 3"
    },
    "language_info": {
      "name": "python"
    }
  },
  "cells": [
    {
      "cell_type": "code",
      "execution_count": null,
      "metadata": {
        "id": "pX6flyrFKSS4"
      },
      "outputs": [],
      "source": [
        "import numpy as np\n",
        "from math import sin, cos, exp, sqrt, pi\n",
        "\n",
        "class Particle:\n",
        "    def __init__(self, position):\n",
        "        self.position = position\n",
        "        self.velocity = None\n",
        "        self.best_position = position.copy()\n",
        "        self.best_value = None"
      ]
    },
    {
      "cell_type": "code",
      "source": [
        "class PSO:\n",
        "    def __init__(self, function, num_particles, num_dimensions, max_iterations, min_bound, max_bound):\n",
        "        self.function = function\n",
        "        self.num_particles = num_particles\n",
        "        self.num_dimensions = num_dimensions\n",
        "        self.max_iterations = max_iterations\n",
        "        self.min_bound = min_bound\n",
        "        self.max_bound = max_bound\n",
        "        self.particles = []\n",
        "\n",
        "        self.global_best_position = None\n",
        "        self.global_best_value = None\n",
        "\n",
        "    def optimize(self):\n",
        "        self._initialize_particles()\n",
        "\n",
        "        for _ in range(self.max_iterations):\n",
        "            for particle in self.particles:\n",
        "                fitness = self.function(*particle.position)\n",
        "\n",
        "                if particle.best_value is None or fitness > particle.best_value:\n",
        "                    particle.best_position = particle.position.copy()\n",
        "                    particle.best_value = fitness\n",
        "\n",
        "                if self.global_best_value is None or fitness > self.global_best_value:\n",
        "                    self.global_best_position = particle.position.copy()\n",
        "                    self.global_best_value = fitness\n",
        "\n",
        "                particle.velocity = (self._calculate_new_velocity(particle) +\n",
        "                                     self._calculate_random_velocity())\n",
        "\n",
        "                particle.position += particle.velocity\n",
        "                self._apply_bounds(particle)\n",
        "\n",
        "        return self.global_best_position\n",
        "\n",
        "    def _initialize_particles(self):\n",
        "        for _ in range(self.num_particles):\n",
        "            position = np.random.uniform(self.min_bound, self.max_bound, self.num_dimensions)\n",
        "            particle = Particle(position)\n",
        "            particle.velocity = np.zeros(self.num_dimensions)  \n",
        "            self.particles.append(particle)\n",
        "\n",
        "    def _calculate_new_velocity(self, particle):\n",
        "        inertia_weight = 0.5\n",
        "        cognitive_weight = 2.0\n",
        "        social_weight = 2.0\n",
        "\n",
        "        return (inertia_weight * particle.velocity +\n",
        "                cognitive_weight * np.random.rand() * (particle.best_position - particle.position) +\n",
        "                social_weight * np.random.rand() * (self.global_best_position - particle.position))\n",
        "\n",
        "    def _calculate_random_velocity(self):\n",
        "        random_weight = 0.1\n",
        "        return random_weight * np.random.uniform(self.min_bound, self.max_bound, self.num_dimensions)\n",
        "\n",
        "    def _apply_bounds(self, particle):\n",
        "        particle.position = np.clip(particle.position, self.min_bound, self.max_bound)\n",
        "\n",
        "\n"
      ],
      "metadata": {
        "id": "ZjLv5k6dKhcL"
      },
      "execution_count": null,
      "outputs": []
    },
    {
      "cell_type": "code",
      "source": [
        "def function(x, y):\n",
        "    \"\"\"The mathematical function you want to maximize.\"\"\"\n",
        "    return abs(sin(x)*cos(y)*exp(abs(1- (sqrt(x**2+y**2)/pi)))) \n",
        "\n",
        "num_particles = 100\n",
        "num_dimensions = 2\n",
        "max_iterations = 500\n",
        "min_bound = -10\n",
        "max_bound = 10\n",
        "\n",
        "pso = PSO(function, num_particles, num_dimensions, max_iterations, min_bound, max_bound)\n",
        "maximum_point = pso.optimize()\n",
        "maximum_value = function(*maximum_point)\n",
        "\n",
        "print(\"Maximum point:\", maximum_point)\n",
        "print(\"Maximum value:\", maximum_value)"
      ],
      "metadata": {
        "colab": {
          "base_uri": "https://localhost:8080/"
        },
        "id": "1alHBXGTLUQD",
        "outputId": "41d518f7-2b63-431d-db19-7aeb0241943d"
      },
      "execution_count": null,
      "outputs": [
        {
          "output_type": "stream",
          "name": "stdout",
          "text": [
            "Maximum point: [8.05761457 9.66397847]\n",
            "Maximum value: 19.208432957914336\n"
          ]
        }
      ]
    },
    {
      "cell_type": "markdown",
      "source": [
        "## Optional Part: Solve TSP with PSO"
      ],
      "metadata": {
        "id": "WiUD5PIpg4OZ"
      }
    },
    {
      "cell_type": "code",
      "source": [
        "import numpy as np\n",
        "\n",
        "\n",
        "class Particle:\n",
        "    def __init__(self, num_cities):\n",
        "        self.num_cities = num_cities\n",
        "        self.position = np.random.permutation(num_cities)\n",
        "        self.velocity = np.zeros(num_cities)\n",
        "        self.best_position = self.position.copy()\n",
        "        self.best_fitness = np.inf\n",
        "\n",
        "\n",
        "class ParticleSwarmOptimization:\n",
        "    def __init__(self, num_particles, num_iterations, inertia_weight, cognitive_weight, social_weight):\n",
        "        self.num_particles = num_particles\n",
        "        self.num_iterations = num_iterations\n",
        "        self.inertia_weight = inertia_weight\n",
        "        self.cognitive_weight = cognitive_weight\n",
        "        self.social_weight = social_weight\n",
        "\n",
        "    def solve(self, distance_matrix):\n",
        "        num_cities = distance_matrix.shape[0]\n",
        "\n",
        "        particles = []\n",
        "        global_best_position = None\n",
        "        global_best_fitness = np.inf\n",
        "\n",
        "        for _ in range(self.num_particles):\n",
        "            particle = Particle(num_cities)\n",
        "            particles.append(particle)\n",
        "\n",
        "            fitness = self._calculate_fitness(distance_matrix, particle.position)\n",
        "            if fitness < particle.best_fitness:\n",
        "                particle.best_position = particle.position.copy()\n",
        "                particle.best_fitness = fitness\n",
        "\n",
        "            if fitness < global_best_fitness:\n",
        "                global_best_position = particle.position.copy()\n",
        "                global_best_fitness = fitness\n",
        "\n",
        "        for iteration in range(self.num_iterations):\n",
        "            for particle in particles:\n",
        "                self._update_velocity(particle, global_best_position)\n",
        "                self._update_position(particle)\n",
        "\n",
        "                fitness = self._calculate_fitness(distance_matrix, particle.position)\n",
        "                if fitness < particle.best_fitness:\n",
        "                    particle.best_position = particle.position.copy()\n",
        "                    particle.best_fitness = fitness\n",
        "\n",
        "                if fitness < global_best_fitness:\n",
        "                    global_best_position = particle.position.copy()\n",
        "                    global_best_fitness = fitness\n",
        "\n",
        "        return global_best_position, global_best_fitness\n",
        "\n",
        "    def _update_velocity(self, particle, global_best_position):\n",
        "        cognitive_component = self.cognitive_weight * np.random.rand() * (particle.best_position - particle.position)\n",
        "        social_component = self.social_weight * np.random.rand() * (global_best_position - particle.position)\n",
        "        particle.velocity = self.inertia_weight * particle.velocity + cognitive_component + social_component\n",
        "\n",
        "    def _update_position(self, particle):\n",
        "        indices = np.argsort(particle.velocity)\n",
        "        particle.position = particle.position[indices]\n",
        "\n",
        "    def _calculate_fitness(self, distance_matrix, path):\n",
        "        distance = 0\n",
        "        for i in range(len(path) - 1):\n",
        "            current_city = path[i]\n",
        "            next_city = path[i + 1]\n",
        "            distance += distance_matrix[current_city, next_city]\n",
        "        return distance\n",
        "\n",
        "\n",
        "if __name__ == '__main__':\n",
        "\n",
        "\n",
        "    from math import sqrt\n",
        "    def fitness(chromosome):\n",
        "        path=0\n",
        "        for i in range(len(matrix)):\n",
        "            gene1 = chromosome[i]\n",
        "            if(i+1<len(matrix)):\n",
        "              gene2 = chromosome[i+1]\n",
        "            else:\n",
        "              gene2 = chromosome[0]\n",
        "            path+=matrix[gene1][gene2]\n",
        "        return path\n",
        "\n",
        "    f = open('gr229.tsp')\n",
        "    inp = f.read()\n",
        "    f.close()\n",
        "    nodes = [0] * len(inp.split('\\n')[7:-2])\n",
        "    t = 0\n",
        "    for e in inp.split('\\n')[7:-2]:\n",
        "        nodes[t] = (float(e.split()[1]),float(e.split()[2]))\n",
        "        t += 1\n",
        "    matrix = [[0 for i in range(len(nodes))] for j in range(len(nodes))]\n",
        "    for i in range(len(nodes)):\n",
        "        for j in range(len(nodes)):\n",
        "            matrix[i][j] = sqrt((nodes[i][0]-nodes[j][0])**2+(nodes[i][1]-nodes[j][1])**2)\n",
        "\n",
        "    distance_matrix = np.array(matrix)\n",
        "\n",
        "    num_particles = 100\n",
        "    num_iterations = 1000\n",
        "    inertia_weight = 0.3\n",
        "    cognitive_weight = 1.9\n",
        "    social_weight = 0.5\n",
        "\n",
        "    pso = ParticleSwarmOptimization(num_particles, num_iterations, inertia_weight, cognitive_weight, social_weight)\n",
        "    best_path, best_distance = pso.solve(distance_matrix)\n",
        "\n",
        "    print(f\"Best path: {best_path}\")\n",
        "    print(f\"Best distance: {best_distance}\")\n"
      ],
      "metadata": {
        "colab": {
          "base_uri": "https://localhost:8080/"
        },
        "id": "15RsWFbXLccl",
        "outputId": "929fa79e-57dc-4c2f-8b3a-d37a584e6b34"
      },
      "execution_count": 19,
      "outputs": [
        {
          "output_type": "stream",
          "name": "stdout",
          "text": [
            "Best path: [223 217 228 222 225 227 226 202 188 212 171 219 196 205 209 203 167 193\n",
            " 215 153 179 174 183 198 176 157 208 135 210 150 132 154 184 191 221 141\n",
            " 186 139 133 213 160 207 145 156 189 190 130 143 134 220 123 206 195 161\n",
            "  91 180 159 187 142 204 218 192 168 182 185 122 166  73 131 199 158 216\n",
            " 163 147 125 126 170 201  80 214 194 152  71 117 111 200  50 107 162 104\n",
            " 177 116  78 148  75 169 211  87 149  89 120 224  65  33  51  97 181 197\n",
            "  44 136 114 175  40  53  70  54 124  52  94  74 173 110  77  98 172 103\n",
            "  86 144 155 165 128  79 108 105 113 109  67 127 119 140 178  14 121 138\n",
            " 151 146  76  43 102 100  62  85  39 164 129 137   9 106 112  81 118  22\n",
            " 115  19  99  68  35  66  59  15   2  90  95  96  20  56  93  24  26  16\n",
            "  37  69  92  36  41  28  82  23  17  55  58  83 101  46  12  88  61  21\n",
            "   6  84   7   1   0  60   5  31  38  45  47  25  32  72  29  63  27  10\n",
            "  64  57  42  34  48  18  30  11  49   8   3  13   4]\n",
            "Best distance: 11252.326602743888\n"
          ]
        }
      ]
    },
    {
      "cell_type": "code",
      "source": [
        "f = open('pr1002.tsp')\n",
        "inp = f.read()\n",
        "f.close()\n",
        "nodes = [0] * len(inp.split('\\n')[6:-1])\n",
        "t = 0\n",
        "for e in inp.split('\\n')[6:-1]:\n",
        "    nodes[t] = (float(e.split()[1]),float(e.split()[2]))\n",
        "    t += 1\n",
        "matrix = [[0 for i in range(len(nodes))] for j in range(len(nodes))]\n",
        "for i in range(len(nodes)):\n",
        "    for j in range(len(nodes)):\n",
        "        matrix[i][j] = sqrt((nodes[i][0]-nodes[j][0])**2+(nodes[i][1]-nodes[j][1])**2)\n",
        "\n",
        "\n",
        "\n",
        "distance_matrix = np.array(matrix)\n",
        "\n",
        "\n",
        "num_particles = 50\n",
        "num_iterations = 1000\n",
        "inertia_weight = 0.3\n",
        "cognitive_weight = 1.9\n",
        "social_weight = 0.5\n",
        "\n",
        "pso = ParticleSwarmOptimization(num_particles, num_iterations, inertia_weight, cognitive_weight, social_weight)\n",
        "best_path, best_distance = pso.solve(distance_matrix)\n",
        "\n",
        "print(f\"Best path: {best_path}\")\n",
        "print(f\"Best distance: {best_distance}\")"
      ],
      "metadata": {
        "colab": {
          "base_uri": "https://localhost:8080/",
          "height": 239
        },
        "id": "ciVGvROP91Zp",
        "outputId": "7c805c6c-f41a-48fd-a03d-b5b629af22ae"
      },
      "execution_count": 40,
      "outputs": [
        {
          "output_type": "error",
          "ename": "ValueError",
          "evalue": "ignored",
          "traceback": [
            "\u001b[0;31m---------------------------------------------------------------------------\u001b[0m",
            "\u001b[0;31mValueError\u001b[0m                                Traceback (most recent call last)",
            "\u001b[0;32m<ipython-input-40-73eda319e7fe>\u001b[0m in \u001b[0;36m<cell line: 26>\u001b[0;34m()\u001b[0m\n\u001b[1;32m     24\u001b[0m \u001b[0;34m\u001b[0m\u001b[0m\n\u001b[1;32m     25\u001b[0m \u001b[0mpso\u001b[0m \u001b[0;34m=\u001b[0m \u001b[0mParticleSwarmOptimization\u001b[0m\u001b[0;34m(\u001b[0m\u001b[0mnum_particles\u001b[0m\u001b[0;34m,\u001b[0m \u001b[0mnum_iterations\u001b[0m\u001b[0;34m,\u001b[0m \u001b[0minertia_weight\u001b[0m\u001b[0;34m,\u001b[0m \u001b[0mcognitive_weight\u001b[0m\u001b[0;34m,\u001b[0m \u001b[0msocial_weight\u001b[0m\u001b[0;34m)\u001b[0m\u001b[0;34m\u001b[0m\u001b[0;34m\u001b[0m\u001b[0m\n\u001b[0;32m---> 26\u001b[0;31m \u001b[0mbest_path\u001b[0m\u001b[0;34m,\u001b[0m \u001b[0mbest_distance\u001b[0m \u001b[0;34m=\u001b[0m \u001b[0mpso\u001b[0m\u001b[0;34m.\u001b[0m\u001b[0msolve\u001b[0m\u001b[0;34m(\u001b[0m\u001b[0mdistance_matrix\u001b[0m\u001b[0;34m)\u001b[0m\u001b[0;34m\u001b[0m\u001b[0;34m\u001b[0m\u001b[0m\n\u001b[0m\u001b[1;32m     27\u001b[0m \u001b[0;34m\u001b[0m\u001b[0m\n\u001b[1;32m     28\u001b[0m \u001b[0mprint\u001b[0m\u001b[0;34m(\u001b[0m\u001b[0;34mf\"Best path: {best_path}\"\u001b[0m\u001b[0;34m)\u001b[0m\u001b[0;34m\u001b[0m\u001b[0;34m\u001b[0m\u001b[0m\n",
            "\u001b[0;31mValueError\u001b[0m: too many values to unpack (expected 2)"
          ]
        }
      ]
    },
    {
      "cell_type": "code",
      "source": [],
      "metadata": {
        "id": "Wcl31h3S_OYn"
      },
      "execution_count": null,
      "outputs": []
    }
  ]
}